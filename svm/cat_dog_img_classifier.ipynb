{
 "cells": [
  {
   "cell_type": "code",
   "execution_count": 5,
   "id": "0cb8d813",
   "metadata": {},
   "outputs": [],
   "source": [
    "import pandas as pd\n",
    "import os\n",
    "from skimage.transform import resize\n",
    "from skimage.io import imread\n",
    "import numpy as np\n",
    "import matplotlib.pyplot as plt\n",
    "import cv2\n",
    "from sklearn import svm\n",
    "from sklearn.model_selection import GridSearchCV\n",
    "from sklearn.model_selection import train_test_split\n",
    "from sklearn.metrics import accuracy_score\n",
    "from sklearn.metrics import classification_report"
   ]
  },
  {
   "cell_type": "code",
   "execution_count": null,
   "id": "eb6130ff",
   "metadata": {},
   "outputs": [
    {
     "name": "stdout",
     "output_type": "stream",
     "text": [
      "Loading category: cats\n"
     ]
    },
    {
     "name": "stderr",
     "output_type": "stream",
     "text": [
      "Corrupt JPEG data: 239 extraneous bytes before marker 0xd9\n"
     ]
    },
    {
     "name": "stdout",
     "output_type": "stream",
     "text": [
      "Loaded 1000 images for category: cats\n",
      "Loading category: dogs\n"
     ]
    },
    {
     "name": "stderr",
     "output_type": "stream",
     "text": [
      "Corrupt JPEG data: 399 extraneous bytes before marker 0xd9\n"
     ]
    },
    {
     "name": "stdout",
     "output_type": "stream",
     "text": [
      "Loaded 1000 images for category: dogs\n"
     ]
    }
   ],
   "source": [
    "Categories = ['cats', 'dogs']\n",
    "flat_data_arr = []\n",
    "target_arr = []\n",
    "datadir = '../images/autoencoder/PetImages'\n",
    "\n",
    "max_images_per_class = 150 \n",
    "\n",
    "for i in Categories:\n",
    "    print(f'Loading category: {i}')\n",
    "    path = os.path.join(datadir, i)\n",
    "    count = 0\n",
    "    for img in os.listdir(path):\n",
    "        if count >= max_images_per_class:\n",
    "            break\n",
    "        try:\n",
    "            img_path = os.path.join(path, img)\n",
    "            img_array = cv2.imread(img_path)  # Read image using OpenCV\n",
    "            if img_array is None:\n",
    "                continue  # Skip if unreadable\n",
    "            img_resized = cv2.resize(img_array, (150, 150))  # Resize to (150, 150)\n",
    "            img_resized = img_resized / 255.0  # Normalize pixel values (optional)\n",
    "            flat_data_arr.append(img_resized.flatten())  # Or just img_resized if no flattening needed\n",
    "            target_arr.append(Categories.index(i))\n",
    "            count += 1\n",
    "        except Exception as e:\n",
    "            print(f\"Skipping {img}: {e}\")\n",
    "    print(f'Loaded {count} images for category: {i}')\n",
    "\n",
    "flat_data = np.array(flat_data_arr)\n",
    "target = np.array(target_arr)\n"
   ]
  },
  {
   "cell_type": "code",
   "execution_count": 8,
   "id": "d22f07ef",
   "metadata": {},
   "outputs": [
    {
     "data": {
      "text/plain": [
       "(2000, 67501)"
      ]
     },
     "execution_count": 8,
     "metadata": {},
     "output_type": "execute_result"
    }
   ],
   "source": [
    "#dataframe\n",
    "df=pd.DataFrame(flat_data) \n",
    "df['Target']=target\n",
    "df.shape"
   ]
  },
  {
   "cell_type": "code",
   "execution_count": 9,
   "id": "dcb71740",
   "metadata": {},
   "outputs": [],
   "source": [
    "#input data \n",
    "x=df.iloc[:,:-1] \n",
    "#output data\n",
    "y=df.iloc[:,-1]"
   ]
  },
  {
   "cell_type": "code",
   "execution_count": 10,
   "id": "a2624512",
   "metadata": {},
   "outputs": [],
   "source": [
    "# Splitting the data into training and testing sets\n",
    "x_train,x_test,y_train,y_test=train_test_split(x,y,test_size=0.20,\n",
    "                                               random_state=77,\n",
    "                                               stratify=y)\n"
   ]
  },
  {
   "cell_type": "code",
   "execution_count": 11,
   "id": "c7e3c9d9",
   "metadata": {},
   "outputs": [],
   "source": [
    "# Defining the parameters grid for GridSearchCV\n",
    "param_grid={'C':[0.1,1,10,100],\n",
    "            'gamma':[0.0001,0.001,0.1,1],\n",
    "            'kernel':['rbf','poly']}"
   ]
  },
  {
   "cell_type": "code",
   "execution_count": 12,
   "id": "912eb4e3",
   "metadata": {},
   "outputs": [],
   "source": [
    "# Creating a support vector classifier\n",
    "svc=svm.SVC(probability=True)"
   ]
  },
  {
   "cell_type": "code",
   "execution_count": 13,
   "id": "3a690253",
   "metadata": {},
   "outputs": [],
   "source": [
    "# Creating a model using GridSearchCV with the parameters grid\n",
    "model=GridSearchCV(svc,param_grid)"
   ]
  },
  {
   "cell_type": "code",
   "execution_count": null,
   "id": "d271db24",
   "metadata": {},
   "outputs": [],
   "source": [
    "# Training the model using the training data\n",
    "model.fit(x_train,y_train)# Testing the model using the testing data\n",
    "y_pred = model.predict(x_test)"
   ]
  },
  {
   "cell_type": "code",
   "execution_count": null,
   "id": "10842413",
   "metadata": {},
   "outputs": [],
   "source": [
    "# Calculating the accuracy of the model\n",
    "accuracy = accuracy_score(y_pred, y_test)"
   ]
  },
  {
   "cell_type": "code",
   "execution_count": null,
   "id": "c79b3a55",
   "metadata": {},
   "outputs": [],
   "source": [
    "# Print the accuracy of the model\n",
    "print(f\"The model is {accuracy*100}% accurate\")"
   ]
  },
  {
   "cell_type": "code",
   "execution_count": null,
   "id": "5c543102",
   "metadata": {},
   "outputs": [],
   "source": [
    "print(classification_report(y_test, y_pred, target_names=['cat', 'dog']))"
   ]
  },
  {
   "cell_type": "code",
   "execution_count": null,
   "id": "5c3df6eb",
   "metadata": {},
   "outputs": [],
   "source": [
    "path='dataset/test_set/dogs/dog.4001.jpg'\n",
    "img=imread(path)\n",
    "plt.imshow(img)\n",
    "plt.show()\n",
    "img_resize=resize(img,(150,150,3))\n",
    "l=[img_resize.flatten()]\n",
    "probability=model.predict_proba(l)\n",
    "for ind,val in enumerate(Categories):\n",
    "    print(f'{val} = {probability[0][ind]*100}%')\n",
    "print(\"The predicted image is : \"+Categories[model.predict(l)[0]])"
   ]
  }
 ],
 "metadata": {
  "kernelspec": {
   "display_name": ".venv",
   "language": "python",
   "name": "python3"
  },
  "language_info": {
   "codemirror_mode": {
    "name": "ipython",
    "version": 3
   },
   "file_extension": ".py",
   "mimetype": "text/x-python",
   "name": "python",
   "nbconvert_exporter": "python",
   "pygments_lexer": "ipython3",
   "version": "3.12.3"
  }
 },
 "nbformat": 4,
 "nbformat_minor": 5
}
